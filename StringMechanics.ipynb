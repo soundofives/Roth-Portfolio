{
 "cells": [
  {
   "cell_type": "markdown",
   "metadata": {},
   "source": [
    "## Nolan Roth\n",
    "\n",
    "## Investigation of String and Waveform Mechanics"
   ]
  },
  {
   "cell_type": "markdown",
   "metadata": {},
   "source": [
    "## PROJECT 03\n",
    "\n",
    "While many introductory physics courses dive into the mechanics of sound, waves, and propogation of such things on a string, creating simulations to visualize these behaviors is easier said than done. In this book, I take a look into the mechanics of a wave moving along a string with only one fixed end.\n",
    "\n",
    "Some benchmarks to understanding this simulation:\n",
    "\n",
    "-What are the boundary conditions? How do they contribute to the behavior we see?\n",
    "\n",
    "-Does a Gaussian reflecting off the free end invert?\n",
    "\n",
    "-What are the normal modes of this system?\n",
    "\n",
    "By the end, I hope to demonstrate the behavior of a string with one free end as it is plucked from the center.\n",
    "\n",
    "Let's begin!"
   ]
  },
  {
   "cell_type": "code",
   "execution_count": 3,
   "metadata": {},
   "outputs": [],
   "source": [
    "import numpy as np\n",
    "import matplotlib.pyplot as plt\n",
    "import ode\n",
    "from scipy.optimize import curve_fit\n",
    "from scipy.linalg import eigh"
   ]
  },
  {
   "cell_type": "code",
   "execution_count": 4,
   "metadata": {},
   "outputs": [],
   "source": [
    "from IPython.display import HTML\n",
    "\n",
    "def playVideo(path):\n",
    "    return HTML(\"\"\"\n",
    "                <video width=\"320\" height=\"240\" controls>\n",
    "                  <source src=\"{}\" type=\"video/mp4\">\n",
    "                </video>\n",
    "                \"\"\".format(path))"
   ]
  },
  {
   "cell_type": "code",
   "execution_count": 5,
   "metadata": {},
   "outputs": [],
   "source": [
    "from mplEasyAnimate import animation\n",
    "from tqdm import tqdm"
   ]
  },
  {
   "cell_type": "markdown",
   "metadata": {},
   "source": [
    "## GAUSSIAN REFLECTION"
   ]
  },
  {
   "cell_type": "markdown",
   "metadata": {},
   "source": [
    "Let's start with simulating the motion of a gausian on the string. The first thing we need to solve for is the wave motion."
   ]
  },
  {
   "cell_type": "markdown",
   "metadata": {},
   "source": [
    "With no external load, the displacement of a string at location $x$ and time $t$ is given by\n",
    "\n",
    "$$F_T\\frac{\\partial u^2(x,t)}{\\partial x^2}=\\rho \\frac{\\partial u^2(x,t)}{\\partial t^2}$$\n",
    "\n",
    "where $F_T$ is the tension and $\\rho$ is the linaer density $M/L$ of the string.  This can be written\n",
    "\n",
    "$$\\frac{\\partial u^2(x,t)}{\\partial x^2}= \\frac{1}{v^2} \\frac{\\partial u^2(x,t)}{\\partial t^2}$$\n",
    "\n",
    "where $v=\\sqrt{F_T/\\rho}$."
   ]
  },
  {
   "cell_type": "markdown",
   "metadata": {},
   "source": [
    "Moving from this basis, we can take the direction of the Finite Difference Method (FDM). This utilizes the displacement of each particle from equilibrium based on some given force or function."
   ]
  },
  {
   "cell_type": "markdown",
   "metadata": {},
   "source": [
    "Write each second derivative using FDM approximation. The second order approximation of the second partial derivative with respect to $x$ is\n",
    "\n",
    "$$\\frac{\\partial u^2(x,t)}{\\partial x^2} \\approx \\frac{u(x+h,t)-2u(x,t)+u(x-h,t)}{h^2}$$\n",
    "\n",
    "The second order approximation of the second partial derivative with respect to $t$ is\n",
    "\n",
    "$$\\frac{\\partial u^2(x,t)}{\\partial t^2} \\approx \\frac{u(x,t+\\Delta t)-2u(x,t)+u(x,t-\\Delta t)}{\\Delta t^2}$$\n",
    "\n",
    "Use the subscript $m$ to indicate the $m^{th}$ index of the grid position $x_m$. Use the superscript $n$ to indicate the $n^{th}$ step in time. Then the wave equation is\n",
    "\n",
    "$$\\frac{u(x+h,t)-2u(x,t)+u(x-h,t)}{h^2} = \\frac{1}{v^2} \\frac{u(x,t+\\Delta t)-2u(x,t)+u(x,t-\\Delta t)}{\\Delta t^2}$$\n",
    "\n",
    "$$\\frac{u_{m-1}^n-2u_{m}^n+u_{m+1}^n}{h^2} = \\frac{1}{v^2} \\frac{u_{m}^{n-1}-2u_{m}^n+u_{m}^{n+1}}{\\Delta t^2} $$\n",
    "\n",
    "\n",
    "The indices with $m$ represent grid points. The superscripts with $n$ are the evolution in time. The goal is to step forward in time. Thus, solve for $u_{m}^{n+1}$.\n",
    "\n",
    "$$u_{m}^{n+1} = 2(1-\\beta^2)u_m^n - u_m^{n-1} + \\beta^2(u_{m-1}^n+u_{m+1}^n)$$\n",
    "\n",
    "where $\\beta=\\frac{v\\Delta t}{h}$. To evolve in time, we use two arrays to hold the solutions to $u(x)$ at all grid points at times $t_{n-1}$ and $t_n$, advance the solution to $t_{n+1}$ and store it in a third array, then swap the appropriate arrays to advance to $t_{n+2}$, and so on."
   ]
  },
  {
   "cell_type": "code",
   "execution_count": 6,
   "metadata": {},
   "outputs": [],
   "source": [
    "def wavemotion(u0, u1):\n",
    "    u2 = 2*(1-b)*u1 - u0                   # unshifted terms \n",
    "    u2[1:-1] += b*( u1[0:-2] + u1[2:] )      # left, right \n",
    "    return u2\n",
    "\n",
    "def gaussian(x):\n",
    "    return np.exp(-(x-5)**2)\n"
   ]
  },
  {
   "cell_type": "markdown",
   "metadata": {},
   "source": [
    "In this next cell, the wavemotion is integrated in the bottom for loop. In that loop, we set\n",
    "$$u2[N] = u2[N-1]$$\n",
    "\n",
    "Which explicitely sets the rightmost point of the string equal to the displacement of the second to right most point on the string, rather than the last point being hardcoded to 0 displacement. This \"frees\" that end of the string!\n",
    "\n",
    "The rest of the cell is walking through the initialization of the string's displacement matrices."
   ]
  },
  {
   "cell_type": "code",
   "execution_count": 7,
   "metadata": {},
   "outputs": [],
   "source": [
    "L, N = 10, 100           # length of string, number of intervals\n",
    "b = 1.0                    # beta^2\n",
    "\n",
    "t_total = 20\n",
    "N_t = 200 #number of time intervals\n",
    "dt = t_total/N_t\n",
    "t = 0\n",
    "ta = np.linspace(0,t_total,N_t+1)\n",
    "\n",
    "x = np.linspace(0, L, N+1)\n",
    "u0, u1 = gaussian(x), gaussian(x)\n",
    "\n",
    "data = np.zeros((N_t+1,N+1))  #columns are u at grid points\n",
    "data[0]=u0\n",
    "data[1]=u1\n",
    "\n",
    "for i in range(N_t):\n",
    "    u2 = wavemotion(u0, u1)\n",
    "    u2[N]=u2[N-1]  #### this is the only new line\n",
    "    u0, u1 = u1, u2\n",
    "    data[i]=u2"
   ]
  },
  {
   "cell_type": "markdown",
   "metadata": {},
   "source": [
    "This next function is used to animate the string."
   ]
  },
  {
   "cell_type": "code",
   "execution_count": 8,
   "metadata": {},
   "outputs": [],
   "source": [
    "def easyanimate_string(t_array, u_array, filename):\n",
    "    xa = np.linspace(0., L, N+1)\n",
    "\n",
    "    t_offsets = t_array\n",
    "    anim = animation(filename)\n",
    "    i=0\n",
    "    for offset in tqdm(t_offsets):\n",
    "        fig, ax = plt.subplots(1, 1, figsize=(10, 7))\n",
    "        ax.plot(xa, u_array[i,:])\n",
    "        ax.set_xlim(0,L)\n",
    "        ax.set_ylim(-1.1,1.1)\n",
    "        \n",
    "        anim.add_frame(fig)\n",
    "        plt.close(fig)\n",
    "        i=i+1\n",
    "    anim.close()    "
   ]
  },
  {
   "cell_type": "code",
   "execution_count": 9,
   "metadata": {},
   "outputs": [
    {
     "name": "stderr",
     "output_type": "stream",
     "text": [
      "100%|██████████| 201/201 [00:33<00:00,  6.01it/s]\n"
     ]
    }
   ],
   "source": [
    "file='string.mp4'\n",
    "easyanimate_string(ta,data,file)"
   ]
  },
  {
   "cell_type": "markdown",
   "metadata": {},
   "source": [
    "When the string is animated, you can see the boundary behavior of the gaussian on the right side--instead of reflecting and inverting like the left side, the wave simply rebounds."
   ]
  },
  {
   "cell_type": "code",
   "execution_count": 10,
   "metadata": {},
   "outputs": [
    {
     "data": {
      "text/html": [
       "\n",
       "                <video width=\"320\" height=\"240\" controls>\n",
       "                  <source src=\"string.mp4\" type=\"video/mp4\">\n",
       "                </video>\n",
       "                "
      ],
      "text/plain": [
       "<IPython.core.display.HTML object>"
      ]
     },
     "execution_count": 10,
     "metadata": {},
     "output_type": "execute_result"
    }
   ],
   "source": [
    "playVideo(file)"
   ]
  },
  {
   "cell_type": "markdown",
   "metadata": {},
   "source": [
    "While the previous video essentially showed a string plucked in a gaussian shape, the next block shows a gaussian given a horizontal velocity along the string. This change comes from the initializations of u0 and u1. Previously, both were set to be equivilant gaussian functions. Now, u1 is given some initial displacement from u0."
   ]
  },
  {
   "cell_type": "code",
   "execution_count": 11,
   "metadata": {},
   "outputs": [
    {
     "data": {
      "text/plain": [
       "(201, 101)"
      ]
     },
     "execution_count": 11,
     "metadata": {},
     "output_type": "execute_result"
    }
   ],
   "source": [
    "L, N = 10, 100           # length of string, number of intervals\n",
    "b = 1.0                    # beta^2\n",
    "h = L/N\n",
    "\n",
    "t_total = 20\n",
    "N_t = 200 #number of time intervals\n",
    "dt = t_total/N_t\n",
    "t = 0\n",
    "ta = np.linspace(0,t_total,N_t+1)\n",
    "\n",
    "x = np.linspace(0, L, N+1)\n",
    "u0 = gaussian(x)\n",
    "u1 = gaussian(x-b*h)\n",
    "\n",
    "data = np.zeros((N_t+1,N+1))  #columns are u at grid points\n",
    "data[0]=u0\n",
    "data[1]=u1\n",
    "\n",
    "for i in range(N_t):\n",
    "    u2 = wavemotion(u0, u1)\n",
    "    u2[N]=u2[N-1]  #### this is the only new line\n",
    "    u0, u1 = u1, u2\n",
    "    data[i]=u2\n",
    "\n",
    "data.shape\n"
   ]
  },
  {
   "cell_type": "code",
   "execution_count": 12,
   "metadata": {},
   "outputs": [
    {
     "name": "stderr",
     "output_type": "stream",
     "text": [
      "100%|██████████| 201/201 [00:31<00:00,  6.37it/s]\n"
     ]
    }
   ],
   "source": [
    "file='string-2.mp4'\n",
    "easyanimate_string(ta,data,file)"
   ]
  },
  {
   "cell_type": "markdown",
   "metadata": {},
   "source": [
    "The reflection can also be seen in the following video, where the wave is given an initial velocity towards the open-end at the right. The wave reflects off that end, but only inverts when reflecting off the fixed end at the left."
   ]
  },
  {
   "cell_type": "code",
   "execution_count": 13,
   "metadata": {},
   "outputs": [
    {
     "data": {
      "text/html": [
       "\n",
       "                <video width=\"320\" height=\"240\" controls>\n",
       "                  <source src=\"string-2.mp4\" type=\"video/mp4\">\n",
       "                </video>\n",
       "                "
      ],
      "text/plain": [
       "<IPython.core.display.HTML object>"
      ]
     },
     "execution_count": 13,
     "metadata": {},
     "output_type": "execute_result"
    }
   ],
   "source": [
    "playVideo(file)"
   ]
  },
  {
   "cell_type": "markdown",
   "metadata": {},
   "source": [
    "## NORMAL MODES\n",
    "\n",
    "In considering the motion of waves, we can also look at normal modes! The normal modes here were plotted using a method building off of the eigen modes and eigen frequencies of displacement matrices."
   ]
  },
  {
   "cell_type": "markdown",
   "metadata": {},
   "source": [
    "Let's start with a small example: For three masses connected by four springs and two walls at the boundaries, the equations of motion for the displacement $u_i$ for each mass $m_i$ are:\n",
    "\n",
    "$$m_1\\ddot{u}_1 = -ku_1-k(u_1-u_2)=-2ku_1+ku_2$$\n",
    "\n",
    "$$m_2\\ddot{u}_2 = -k(u_2-u_1)-k(u_2-u_3)=ku_1-2ku_2+ku_3$$\n",
    "\n",
    "$$m_3\\ddot{u}_3 = -k(u_3-u_2)-ku_3=ku_2-2ku_3$$\n",
    "\n",
    "Let's assume the masses oscillate vertically. In this case $k=F_T/L_0$ where $F_T$ is the tension in the \"string\" and $L_0$ is the nominal distance between masses (\"atoms\").\n",
    "\n",
    "Suppose that there is a set of initial conditions that results in motion where each mass oscillates with a frequency $\\omega$ and the displacement of each mass $m_i$ is described by a single sinusoidal function:\n",
    "\n",
    "$$u_i = a_i \\cos(\\omega t + \\phi)$$\n",
    "\n",
    "Substituting this into the differential equations above gives:\n",
    "\n",
    "$$2ka_1-ka_2 + 0 = m_1\\omega^2a_1$$\n",
    "\n",
    "$$-ka_1+2ka_2 - ka_3 = m_2\\omega^2a_2$$\n",
    "\n",
    "$$0 -ka_2 + 2ka_3 = m_3\\omega^2a_3$$\n",
    "\n",
    "It is written in this way to make it more obvious that we can express these equations with matrices.\n",
    "\n",
    "$$\n",
    "\\left[ {\\begin{array}{ccc}\n",
    "   2k & -k & 0 \\\\\n",
    "   -k & 2k & -k \\\\\n",
    "   0 & -k & 2k \\\\\n",
    "  \\end{array} } \\right]\n",
    "\\left[ {\\begin{array}{c}\n",
    "    a_1 \\\\\n",
    "    a_2 \\\\\n",
    "    a_3 \\\\\n",
    "  \\end{array} } \\right]\n",
    "  = \\omega^2\n",
    "\\left[ {\\begin{array}{ccc}\n",
    "   m_1 & 0 & 0 \\\\\n",
    "   0 & m_2 & 0 \\\\\n",
    "   0 & 0 & m_3 \\\\\n",
    "  \\end{array} } \\right]\n",
    "\\left[ {\\begin{array}{c}\n",
    "    a_1 \\\\\n",
    "    a_2 \\\\\n",
    "    a_3 \\\\\n",
    "  \\end{array} } \\right]\n",
    "$$\n",
    "\n",
    "Define $\\lambda=\\omega^2$, then\n",
    "\n",
    "$$[A-\\lambda B]\\vec{a}$$\n",
    "\n",
    "where $\\lambda$ is called the eigenvalue and $\\vec{a}$ is called the eigenvector. To find the frequencies, solve for the eigenvalues using\n",
    "\n",
    "$$\\det\\left[ A-\\lambda B\\right]=0$$\n",
    "\n",
    "$$\\left | {\\begin{array}{ccc}\n",
    "   2k-\\lambda m_1 & -k & 0 \\\\\n",
    "   -k & 2k-\\lambda m_2 & -k \\\\\n",
    "   0 & -k & 2k-\\lambda m_3 \\\\\n",
    "  \\end{array} } \\right |$$\n",
    "  \n",
    "There are three eigenvalues. Substitute each eigenvalue back into the equations of motion above and solve for its corresponding eigenvector:\n",
    "\n",
    "$$ \\vec{a}=\n",
    "\\left[ {\\begin{array}{c}\n",
    "    a_1 \\\\\n",
    "    a_2 \\\\\n",
    "    a_3 \\\\\n",
    "  \\end{array} } \\right]\n",
    "$$\n",
    "\n",
    "Write the general analytic solution for the triatomic molecule as a sum of the normal modes.\n",
    "\n",
    "$$\n",
    "\\left[ {\\begin{array}{c}\n",
    "    u_1 \\\\\n",
    "    u_2 \\\\\n",
    "    u_3 \\\\\n",
    "  \\end{array} } \\right]\n",
    "  = A_0\n",
    "\\left[ {\\begin{array}{c}\n",
    "    a_{00} \\\\\n",
    "    a_{10} \\\\\n",
    "    a_{20} \\\\\n",
    "  \\end{array} } \\right]\n",
    "  \\cos(\\omega_0t + \\phi_0)\n",
    "+ A_1\n",
    "\\left[ {\\begin{array}{c}\n",
    "    a_{01} \\\\\n",
    "    a_{11} \\\\\n",
    "    a_{21} \\\\\n",
    "  \\end{array} } \\right]\n",
    "  \\cos(\\omega_1t + \\phi_1)\n",
    "+ A_2\n",
    "\\left[ {\\begin{array}{c}\n",
    "    a_{02} \\\\\n",
    "    a_{12} \\\\\n",
    "    a_{22} \\\\\n",
    "  \\end{array} } \\right]\n",
    "  \\cos(\\omega_1t + \\phi_2)\n",
    "$$\n",
    "\n",
    "The constants $A_0,\\ A_1,\\ A_2, \\phi_0,\\ \\phi_1,\\ \\phi_2$ depend on the initial conditions of the atoms.\n",
    "\n",
    "First, let's set the initial velocities of all atoms to zero so the phases are zero.\n",
    "\n",
    "\n",
    "Now, let's solve for $A_0,\\ A_1,\\ A_2$ based on the initial positions of the atoms. At $t=0$, \n",
    "\n",
    "$$u_1=u_{1i}=A_0a_{00} + A_1a_{01} + A_2a_{02}$$\n",
    "\n",
    "$$u_2=u_{2i}=A_0a_{10} + A_1a_{11} + A_2a_{12}$$\n",
    "\n",
    "$$u_3=u_{3i}=A_0a_{20} + A_1a_{21} + A_2a_{22}$$\n",
    "\n",
    "We have three equations and three unknowns. Use linear algebra.\n",
    "\n",
    "$$\n",
    "\\left[ {\\begin{array}{ccc}\n",
    "   a_{00} & a_{01} & a_{02} \\\\\n",
    "   a_{10} & a_{11} & a_{22} \\\\\n",
    "   a_{20} & a_{21} & a_{22} \\\\\n",
    "  \\end{array} } \\right]\n",
    "\\left[ {\\begin{array}{c}\n",
    "    A_0 \\\\\n",
    "    A_1 \\\\\n",
    "    A_2 \\\\\n",
    "  \\end{array} } \\right]\n",
    "  = \n",
    "\\left[ {\\begin{array}{c}\n",
    "    u_{1i} \\\\\n",
    "    u_{2i} \\\\\n",
    "    u_{3i} \\\\\n",
    "  \\end{array} } \\right]\n",
    "$$\n",
    "\n",
    "The numpy function `numpy.linalg.solve()` will solve this equation and return the coefficients:\n",
    "\n",
    "$$\n",
    "\\left[ {\\begin{array}{c}\n",
    "    A_0 \\\\\n",
    "    A_1 \\\\\n",
    "    A_2 \\\\\n",
    "  \\end{array} } \\right]\n",
    "$$"
   ]
  },
  {
   "cell_type": "markdown",
   "metadata": {},
   "source": [
    "The right boundary was freed by removing a coefficient term in the last position in the matrix originally representing the \"fixed mass\" of a wall. This simple change greatly effects the behavior of the string!"
   ]
  },
  {
   "cell_type": "code",
   "execution_count": 17,
   "metadata": {},
   "outputs": [],
   "source": [
    "def normal_modes(Natoms, ks, mass, ui, udoti, t_total):\n",
    "    global N, k, m\n",
    "    N=Natoms\n",
    "    k=ks\n",
    "    m=mass\n",
    "    \n",
    "    #Build matrices\n",
    "    A=np.zeros((Natoms,Natoms))\n",
    "\n",
    "    for i in range(Natoms):\n",
    "        A[i,i] = 2*ks\n",
    "        if i==0:\n",
    "            A[0,i+1]=-ks\n",
    "        elif i==Natoms-1:\n",
    "            A[i,i-1]=-ks\n",
    "        else:\n",
    "            A[i,i-1]=-ks\n",
    "            A[i,i+1]=-ks\n",
    "\n",
    "    #Define our second boundary condition to be free rather than fixed\n",
    "    A[Natoms-1,Natoms-1] = ks\n",
    "    \n",
    "    B=mass*np.identity(Natoms)\n",
    "\n",
    "    #find eigenvalues and eigenvectors\n",
    "    lamb, a = eigh(A, B)        # eigenvalues and eigenvectors  \n",
    "    #print(\"eigenvalues (omega^2):\", lamb)\n",
    "    #print(\"eigenvectors are column vectors in:\\n\\n\", a)\n",
    "\n",
    "    #Find coefficients for normal modes\n",
    "    Acoeffs = np.linalg.solve(a,ui)\n",
    "\n",
    "    #build the general solution\n",
    "    t = np.linspace(0,t_total,1000)\n",
    "\n",
    "    omegas = np.sqrt(lamb)\n",
    "    u_atoms = np.zeros((Natoms,len(t)))\n",
    "\n",
    "    for i in range(Natoms):\n",
    "        for w in range(0,len(omegas)):\n",
    "            u_atoms[i] = u_atoms[i] + Acoeffs[w]*a[i,w]*np.cos(omegas[w]*t)\n",
    "\n",
    "    return omegas, a, u_atoms, t"
   ]
  },
  {
   "cell_type": "markdown",
   "metadata": {},
   "source": [
    "With the above function giving us our normal modes, we need the function below to plot them."
   ]
  },
  {
   "cell_type": "code",
   "execution_count": 18,
   "metadata": {},
   "outputs": [],
   "source": [
    "def plot_mode_teq0(mode, freqs, vecs): #plot normal mode at t=0\n",
    "    \n",
    "    u_mode = vecs[:,mode]\n",
    "    u_mode_with_boundary=np.insert(u_mode,0,0) #add 0 to beginning of array\n",
    "    #u_mode_with_boundary=np.append(u_mode_with_boundary,0) #add 0 to end of array\n",
    "    xa = np.linspace(0,L,Natoms+1)\n",
    "        \n",
    "    plt.figure()\n",
    "    plt.title(\"normal mode %d\" % mode)\n",
    "    plt.plot(xa,u_mode_with_boundary, 'b-', label='u_i')\n",
    "    plt.xlabel('x (m)')\n",
    "    plt.ylabel('y (m)')\n",
    "    plt.legend(loc='lower right')\n",
    "    plt.show()\n"
   ]
  },
  {
   "cell_type": "markdown",
   "metadata": {},
   "source": [
    "Let's calculate and plot the first five normal modes."
   ]
  },
  {
   "cell_type": "code",
   "execution_count": 19,
   "metadata": {},
   "outputs": [
    {
     "data": {
      "image/png": "[encoded data removed]",
      "text/plain": [
       "<Figure size 432x288 with 1 Axes>"
      ]
     },
     "metadata": {},
     "output_type": "display_data"
    }
   ],
   "source": [
    "Natoms = 50\n",
    "ks = 1\n",
    "mass = 1\n",
    "L = 1\n",
    "L0 = L/(Natoms+1)\n",
    "F_T = ks*L0\n",
    "t_tot = 10*np.pi\n",
    "\n",
    "u_i = np.zeros(Natoms)\n",
    "udot_i = np.zeros(Natoms)\n",
    "\n",
    "eig_freq, eig_vec, u, ta = normal_modes(Natoms, ks, mass, u_i, udot_i, t_tot)\n",
    "plot_mode_teq0(0,eig_freq,eig_vec)"
   ]
  },
  {
   "cell_type": "code",
   "execution_count": 20,
   "metadata": {},
   "outputs": [
    {
     "data": {
      "image/png": "[encoded data removed]",
      "text/plain": [
       "<Figure size 432x288 with 1 Axes>"
      ]
     },
     "metadata": {},
     "output_type": "display_data"
    }
   ],
   "source": [
    "plot_mode_teq0(1,eig_freq,eig_vec)"
   ]
  },
  {
   "cell_type": "code",
   "execution_count": 21,
   "metadata": {},
   "outputs": [
    {
     "data": {
      "image/png": "[encoded data removed]",
      "text/plain": [
       "<Figure size 432x288 with 1 Axes>"
      ]
     },
     "metadata": {},
     "output_type": "display_data"
    }
   ],
   "source": [
    "plot_mode_teq0(2,eig_freq,eig_vec)"
   ]
  },
  {
   "cell_type": "code",
   "execution_count": 22,
   "metadata": {},
   "outputs": [
    {
     "data": {
      "image/png": "[encoded data removed]",
      "text/plain": [
       "<Figure size 432x288 with 1 Axes>"
      ]
     },
     "metadata": {},
     "output_type": "display_data"
    }
   ],
   "source": [
    "plot_mode_teq0(3,eig_freq,eig_vec)"
   ]
  },
  {
   "cell_type": "code",
   "execution_count": 23,
   "metadata": {},
   "outputs": [
    {
     "data": {
      "image/png": "[encoded data removed]",
      "text/plain": [
       "<Figure size 432x288 with 1 Axes>"
      ]
     },
     "metadata": {},
     "output_type": "display_data"
    }
   ],
   "source": [
    "plot_mode_teq0(4,eig_freq,eig_vec)"
   ]
  },
  {
   "cell_type": "markdown",
   "metadata": {},
   "source": [
    "## PLUCKING A STRING THAT IS FREE AT ONE END\n",
    "\n",
    "Another interesting simulation to show the properties of a string with a free end is to pluck it in the center. The following cell block sets up a string in a \"tent\" form--plucked in the center so that the string on either side of the center is pulled taut.\n",
    "\n",
    "This is all done using the FDM method used earlier in this notebook. Thus, the free end is created by adding the line:\n",
    "\n",
    "$$u2[N] = u2[N-1]$$\n",
    "\n",
    "while we integrate."
   ]
  },
  {
   "cell_type": "code",
   "execution_count": 24,
   "metadata": {},
   "outputs": [
    {
     "name": "stdout",
     "output_type": "stream",
     "text": [
      "[ 0.   0.1  0.2  0.3  0.4  0.5  0.6  0.7  0.8  0.9  1.   1.1  1.2  1.3\n",
      "  1.4  1.5  1.6  1.7  1.8  1.9  2.   2.1  2.2  2.3  2.4  2.5  2.6  2.7\n",
      "  2.8  2.9  3.   3.1  3.2  3.3  3.4  3.5  3.6  3.7  3.8  3.9  4.   4.1\n",
      "  4.2  4.3  4.4  4.5  4.6  4.7  4.8  4.9  5.   5.1  5.2  5.3  5.4  5.5\n",
      "  5.6  5.7  5.8  5.9  6.   6.1  6.2  6.3  6.4  6.5  6.6  6.7  6.8  6.9\n",
      "  7.   7.1  7.2  7.3  7.4  7.5  7.6  7.7  7.8  7.9  8.   8.1  8.2  8.3\n",
      "  8.4  8.5  8.6  8.7  8.8  8.9  9.   9.1  9.2  9.3  9.4  9.5  9.6  9.7\n",
      "  9.8  9.9 10. ]\n",
      "(201, 101)\n"
     ]
    },
    {
     "data": {
      "image/png": "[encoded data removed]",
      "text/plain": [
       "<Figure size 432x288 with 1 Axes>"
      ]
     },
     "metadata": {},
     "output_type": "display_data"
    }
   ],
   "source": [
    "L, N = 10, 100           # length of string, number of intervals\n",
    "b = 1.0                    # beta^2\n",
    "h = L/N\n",
    "\n",
    "t_total = 20\n",
    "N_t = 200 #number of time intervals\n",
    "dt = t_total/N_t\n",
    "t = 0\n",
    "ta = np.linspace(0,t_total,N_t+1)\n",
    "\n",
    "A = 0.5\n",
    "lamb = 1*L\n",
    "v = b*h/dt\n",
    "f = v/lamb\n",
    "k=2*np.pi/lamb\n",
    "\n",
    "x = np.linspace(0, L, N+1)\n",
    "print(x)\n",
    "u0 = np.zeros(N+1)\n",
    "u0[:51] = .1*x[(x<=5)]\n",
    "u0[51:] = (-.1*x[(x<5)])+0.5\n",
    "u1 = u0\n",
    "\n",
    "data = np.zeros((N_t+1,N+1))  #columns are u at grid points\n",
    "data[0]=u0\n",
    "data[1]=u1\n",
    "\n",
    "for i in range(N_t):\n",
    "    u2 = wavemotion(u0, u1)\n",
    "    u2[N]=u2[N-1]  #### this is the only new line\n",
    "    u0, u1 = u1, u2\n",
    "    data[i]=u2\n",
    "\n",
    "print(data.shape)\n",
    "\n",
    "plt.figure()\n",
    "plt.title(\"Initial Condition\")\n",
    "plt.plot(x,data[0,:], 'b-', label='u_i')\n",
    "plt.xlabel('x (m)')\n",
    "plt.ylabel('y (m)')\n",
    "plt.legend(loc='lower right')\n",
    "plt.show()\n"
   ]
  },
  {
   "cell_type": "code",
   "execution_count": 25,
   "metadata": {},
   "outputs": [
    {
     "name": "stderr",
     "output_type": "stream",
     "text": [
      "100%|██████████| 201/201 [00:30<00:00,  6.49it/s]\n"
     ]
    }
   ],
   "source": [
    "file='string-tent.mp4'\n",
    "easyanimate_string(ta,data,file)"
   ]
  },
  {
   "cell_type": "code",
   "execution_count": 26,
   "metadata": {},
   "outputs": [
    {
     "data": {
      "text/html": [
       "\n",
       "                <video width=\"320\" height=\"240\" controls>\n",
       "                  <source src=\"string-tent.mp4\" type=\"video/mp4\">\n",
       "                </video>\n",
       "                "
      ],
      "text/plain": [
       "<IPython.core.display.HTML object>"
      ]
     },
     "execution_count": 26,
     "metadata": {},
     "output_type": "execute_result"
    }
   ],
   "source": [
    "playVideo(file)"
   ]
  },
  {
   "cell_type": "markdown",
   "metadata": {},
   "source": [
    "The wave exhibits some pretty strange behavior! Because the initial conditions were angular instead of the soft shapes of sinusoids or gaussians, the wave itself propogated in a sharp, angular fashion!\n",
    "\n",
    "This concludes my investigation into this area of string behavior. I covered a number of benchmarks in understanding this system:\n",
    "\n",
    "-I explained the change in boundary condidtions and how they contributed to the behavior of the string.\n",
    "\n",
    "-I found that a gaussian reflecting of the free end of the string does not invert!\n",
    "\n",
    "-I plotted the first five normal modes of the system using a method based in solving for the eigenvalues and eigenfrequencies of the oscillating system.\n",
    "\n",
    "Additionally, I demonstrated the behavior of a string with one free end as it was plucked from the center.\n"
   ]
  }
 ],
 "metadata": {
  "kernelspec": {
   "display_name": "Python 3",
   "language": "python",
   "name": "python3"
  },
  "language_info": {
   "codemirror_mode": {
    "name": "ipython",
    "version": 3
   },
   "file_extension": ".py",
   "mimetype": "text/x-python",
   "name": "python",
   "nbconvert_exporter": "python",
   "pygments_lexer": "ipython3",
   "version": "3.6.5"
  }
 },
 "nbformat": 4,
 "nbformat_minor": 2
}
